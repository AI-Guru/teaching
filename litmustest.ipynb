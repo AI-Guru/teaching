{
 "cells": [
  {
   "cell_type": "code",
   "execution_count": 2,
   "metadata": {},
   "outputs": [
    {
     "name": "stdout",
     "output_type": "stream",
     "text": [
      "Python version is fine! sys.version_info(major=3, minor=6, micro=5, releaselevel='final', serial=0)\n",
      "tensorflow: 2.0.0\n",
      "keras: 2.2.4-tf\n",
      "matplotlib: 3.0.2\n",
      "PIL: 5.4.1\n",
      "numpy: 1.16.1\n",
      "matplotlib: 3.0.2\n",
      "Loaded mnist.\n",
      "Loaded fashion_mnist.\n",
      "Loaded boston_housing.\n",
      "Loaded imdb.\n",
      "Loaded reuters.\n",
      "Success! Your set-up is very promising!\n"
     ]
    }
   ],
   "source": [
    "# Ignore warnings.\n",
    "import warnings\n",
    "warnings.filterwarnings(\"ignore\")\n",
    "\n",
    "# Check python version.\n",
    "import sys\n",
    "assert sys.version_info[0] == 3 and sys.version_info[1] >= 6, \"Requires at least Python 3.6.x, got \" + str(sys.version_info)\n",
    "print(\"Python version is fine! {}\".format(sys.version_info))\n",
    "\n",
    "# Check tensorflow.\n",
    "import tensorflow\n",
    "print(\"tensorflow:\", tensorflow.__version__)\n",
    "\n",
    "# Check keras.\n",
    "import tensorflow.keras\n",
    "print(\"keras:\", tensorflow.keras.__version__)\n",
    "\n",
    "# Check tensorflow.\n",
    "import matplotlib\n",
    "print(\"matplotlib:\", matplotlib.__version__)\n",
    "\n",
    "# Check PIL.\n",
    "import PIL\n",
    "print(\"PIL:\", PIL.__version__)\n",
    "\n",
    "# Check numpy.\n",
    "import numpy\n",
    "print(\"numpy:\", numpy.__version__)\n",
    "\n",
    "# Check matplotlib.\n",
    "import matplotlib\n",
    "print(\"matplotlib:\", matplotlib.__version__)\n",
    "\n",
    "# Test datasets.\n",
    "from tensorflow.keras.datasets import mnist\n",
    "mnist.load_data()\n",
    "print(\"Loaded mnist.\")\n",
    "from tensorflow.keras.datasets import fashion_mnist\n",
    "fashion_mnist.load_data()\n",
    "print(\"Loaded fashion_mnist.\")\n",
    "from tensorflow.keras.datasets import boston_housing\n",
    "boston_housing.load_data()\n",
    "print(\"Loaded boston_housing.\")\n",
    "from tensorflow.keras.datasets import imdb\n",
    "imdb.load_data()\n",
    "print(\"Loaded imdb.\")\n",
    "from tensorflow.keras.datasets import reuters\n",
    "reuters.load_data()\n",
    "print(\"Loaded reuters.\")\n",
    "\n",
    "\n",
    "print(\"Success! Your set-up is very promising!\")"
   ]
  },
  {
   "cell_type": "code",
   "execution_count": null,
   "metadata": {},
   "outputs": [],
   "source": []
  }
 ],
 "metadata": {
  "kernelspec": {
   "display_name": "Python 3",
   "language": "python",
   "name": "python3"
  },
  "language_info": {
   "codemirror_mode": {
    "name": "ipython",
    "version": 3
   },
   "file_extension": ".py",
   "mimetype": "text/x-python",
   "name": "python",
   "nbconvert_exporter": "python",
   "pygments_lexer": "ipython3",
   "version": "3.6.5"
  }
 },
 "nbformat": 4,
 "nbformat_minor": 2
}
